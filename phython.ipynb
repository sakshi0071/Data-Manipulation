{
  "nbformat": 4,
  "nbformat_minor": 0,
  "metadata": {
    "colab": {
      "name": "phython",
      "provenance": [],
      "authorship_tag": "ABX9TyOJ1J6UV+blr+vc8QUWtcEg",
      "include_colab_link": true
    },
    "kernelspec": {
      "name": "python3",
      "display_name": "Python 3"
    },
    "language_info": {
      "name": "python"
    }
  },
  "cells": [
    {
      "cell_type": "markdown",
      "metadata": {
        "id": "view-in-github",
        "colab_type": "text"
      },
      "source": [
        "<a href=\"https://colab.research.google.com/github/sakshi0071/Data-Manipulation/blob/master/phython.ipynb\" target=\"_parent\"><img src=\"https://colab.research.google.com/assets/colab-badge.svg\" alt=\"Open In Colab\"/></a>"
      ]
    },
    {
      "cell_type": "code",
      "metadata": {
        "colab": {
          "base_uri": "https://localhost:8080/"
        },
        "id": "au8l5ZjZaxu8",
        "outputId": "d4a5cb0e-1d78-4fe6-ff8f-46a57bef592f"
      },
      "source": [
        "print (\"hello world\")"
      ],
      "execution_count": 1,
      "outputs": [
        {
          "output_type": "stream",
          "text": [
            "hello world\n"
          ],
          "name": "stdout"
        }
      ]
    },
    {
      "cell_type": "markdown",
      "metadata": {
        "id": "lrwG9FFndd9S"
      },
      "source": [
        "hello world with a variable\n"
      ]
    },
    {
      "cell_type": "code",
      "metadata": {
        "colab": {
          "base_uri": "https://localhost:8080/"
        },
        "id": "zE5y1fhNdHYZ",
        "outputId": "21290c31-34d5-4030-e2cd-3bf3f0a07570"
      },
      "source": [
        "msg=\"hello world\"\n",
        "print(msg)"
      ],
      "execution_count": 3,
      "outputs": [
        {
          "output_type": "stream",
          "text": [
            "hello world\n"
          ],
          "name": "stdout"
        }
      ]
    },
    {
      "cell_type": "code",
      "metadata": {
        "id": "trG-PtPTd2Vn"
      },
      "source": [
        ""
      ],
      "execution_count": null,
      "outputs": []
    },
    {
      "cell_type": "markdown",
      "metadata": {
        "id": "qH4lwN_Rdq52"
      },
      "source": [
        "concatenation\n"
      ]
    },
    {
      "cell_type": "code",
      "metadata": {
        "colab": {
          "base_uri": "https://localhost:8080/"
        },
        "id": "iwrXH8Brd5A7",
        "outputId": "4f5c821f-b1d4-4be6-f968-eae5ba7572ee"
      },
      "source": [
        "first_name =\"sakshi\"\n",
        "second_name=\"mehra\"\n",
        "full_name= first_name +' '+second_name \n",
        "print(full_name) "
      ],
      "execution_count": 14,
      "outputs": [
        {
          "output_type": "stream",
          "text": [
            "sakshi mehra\n"
          ],
          "name": "stdout"
        }
      ]
    },
    {
      "cell_type": "markdown",
      "metadata": {
        "id": "SI_GjqrNfvV5"
      },
      "source": [
        "lists\n"
      ]
    },
    {
      "cell_type": "markdown",
      "metadata": {
        "id": "ezqcVfyjgJuj"
      },
      "source": [
        "Make a list\n"
      ]
    },
    {
      "cell_type": "code",
      "metadata": {
        "id": "0_Esui_mgPKs"
      },
      "source": [
        "fruits = [\"oranges\",\"apples\",\"banana\"]"
      ],
      "execution_count": 18,
      "outputs": []
    },
    {
      "cell_type": "markdown",
      "metadata": {
        "id": "1x8Wnn0udFqg"
      },
      "source": [
        "get the first item in the list\n"
      ]
    },
    {
      "cell_type": "code",
      "metadata": {
        "id": "SUy8lsLdh2hD"
      },
      "source": [
        "First_fruit= fruits[0]\n"
      ],
      "execution_count": 19,
      "outputs": []
    },
    {
      "cell_type": "markdown",
      "metadata": {
        "id": "QFiN0wvdiMZh"
      },
      "source": [
        "get the last item in the list\n"
      ]
    },
    {
      "cell_type": "code",
      "metadata": {
        "id": "bJVrFmeDiQ9k"
      },
      "source": [
        "last_fruit= fruits[-1]"
      ],
      "execution_count": 20,
      "outputs": []
    },
    {
      "cell_type": "markdown",
      "metadata": {
        "id": "jdBxGfe8ikmr"
      },
      "source": [
        "looping through a list"
      ]
    },
    {
      "cell_type": "code",
      "metadata": {
        "colab": {
          "base_uri": "https://localhost:8080/"
        },
        "id": "SQ7dcUKBindx",
        "outputId": "b84f5f42-fd12-4fd4-8eee-ce9fb44285df"
      },
      "source": [
        "print(fruits)"
      ],
      "execution_count": 21,
      "outputs": [
        {
          "output_type": "stream",
          "text": [
            "['oranges', 'apples', 'banana']\n"
          ],
          "name": "stdout"
        }
      ]
    },
    {
      "cell_type": "markdown",
      "metadata": {
        "id": "y7SBJ_Hii441"
      },
      "source": [
        "adding item to a list"
      ]
    },
    {
      "cell_type": "code",
      "metadata": {
        "id": "nV0PJR27i-R7"
      },
      "source": [
        "fruits= [] \n",
        "fruits.append(\"oranges\")\n",
        "fruits.append(\"apples\")\n",
        "fruits.append(\"banana\")\n"
      ],
      "execution_count": 28,
      "outputs": []
    },
    {
      "cell_type": "markdown",
      "metadata": {
        "id": "Uj4qJ483nkA_"
      },
      "source": [
        "making numerical list"
      ]
    },
    {
      "cell_type": "code",
      "metadata": {
        "id": "DD62o6-Enna6"
      },
      "source": [
        "squares=[]\n",
        "for x in range(1,11):\n",
        "  squares.append(x**2)"
      ],
      "execution_count": 30,
      "outputs": []
    },
    {
      "cell_type": "markdown",
      "metadata": {
        "id": "1xIGF8cstIks"
      },
      "source": [
        "parameters and arguments"
      ]
    },
    {
      "cell_type": "code",
      "metadata": {
        "colab": {
          "base_uri": "https://localhost:8080/"
        },
        "id": "84Wo3M0ntN4P",
        "outputId": "43dcb5bb-ebf6-4116-b191-5350d043901f"
      },
      "source": [
        "abs(5)\n",
        "abs(-5)\n",
        "a=45\n",
        "b=89\n",
        "abs(a-b)\n",
        "abs(b-a)"
      ],
      "execution_count": 36,
      "outputs": [
        {
          "output_type": "execute_result",
          "data": {
            "text/plain": [
              "44"
            ]
          },
          "metadata": {
            "tags": []
          },
          "execution_count": 36
        }
      ]
    },
    {
      "cell_type": "code",
      "metadata": {
        "colab": {
          "base_uri": "https://localhost:8080/",
          "height": 180
        },
        "id": "7rR8YETIi4eQ",
        "outputId": "7c4f9e30-b765-4e7d-f29c-82af40b4985a"
      },
      "source": [
        "print_twice(\"hi\")\n",
        "print_twice (\"hi *3\")"
      ],
      "execution_count": 39,
      "outputs": [
        {
          "output_type": "error",
          "ename": "NameError",
          "evalue": "ignored",
          "traceback": [
            "\u001b[0;31m---------------------------------------------------------------------------\u001b[0m",
            "\u001b[0;31mNameError\u001b[0m                                 Traceback (most recent call last)",
            "\u001b[0;32m<ipython-input-39-573ea64f1f2c>\u001b[0m in \u001b[0;36m<module>\u001b[0;34m()\u001b[0m\n\u001b[0;32m----> 1\u001b[0;31m \u001b[0mprint_twice\u001b[0m\u001b[0;34m(\u001b[0m\u001b[0;34m\"hi\"\u001b[0m\u001b[0;34m)\u001b[0m\u001b[0;34m\u001b[0m\u001b[0;34m\u001b[0m\u001b[0m\n\u001b[0m\u001b[1;32m      2\u001b[0m \u001b[0mprint_twice\u001b[0m \u001b[0;34m(\u001b[0m\u001b[0;34m\"hi *3\"\u001b[0m\u001b[0;34m)\u001b[0m\u001b[0;34m\u001b[0m\u001b[0;34m\u001b[0m\u001b[0m\n",
            "\u001b[0;31mNameError\u001b[0m: name 'print_twice' is not defined"
          ]
        }
      ]
    }
  ]
}